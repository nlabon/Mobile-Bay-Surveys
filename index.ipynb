{
 "cells": [
  {
   "cell_type": "markdown",
   "metadata": {},
   "source": [
    "# Title of Project - For NOAA RESTORE\n",
    "\n",
    "Summary of the work described in the notebok, and how it fits into the NOAA RESTORE project.\n",
    "\n",
    "Team:\n",
    "- names\n",
    "- affiliations"
   ]
  },
  {
   "cell_type": "code",
   "execution_count": null,
   "metadata": {},
   "outputs": [],
   "source": [
    "# load libraries, suppress warnings\n",
    "suppressPackageStartupMessages({\n",
    "library(ggplot2)\n",
    "library(leaflet)\n",
    "library(dplyr)\n",
    "library(lubridate)\n",
    "})"
   ]
  },
  {
   "cell_type": "markdown",
   "metadata": {},
   "source": [
    "## Station Data\n",
    "\n",
    "Read station coordinates\n",
    "\n",
    "Upload a small CSV file that contains, at minimum, \n",
    "- `Station`\n",
    "- `Lat`\n",
    "- `Lon`\n",
    "\n",
    "Or just use ours."
   ]
  },
  {
   "cell_type": "code",
   "execution_count": null,
   "metadata": {},
   "outputs": [],
   "source": [
    "# Read a CSV file that has 'Station', 'Lat', 'Lon'\n",
    "#load station locations\n",
    "df <- read.csv(\"stations/mb_stations.csv\")"
   ]
  },
  {
   "cell_type": "markdown",
   "metadata": {},
   "source": [
    "## Map of our Study Area\n",
    "Define the bounding box for your study area"
   ]
  },
  {
   "cell_type": "code",
   "execution_count": null,
   "metadata": {},
   "outputs": [],
   "source": [
    "## Define bounding box\n",
    "latmin = 30.10\n",
    "latmax = 30.96\n",
    "lonmin = -88.75\n",
    "lonmax = -87.4"
   ]
  },
  {
   "cell_type": "code",
   "execution_count": null,
   "metadata": {},
   "outputs": [],
   "source": [
    "# Mobile Bay\n",
    "leaflet(df) %>%\n",
    "      addTiles() %>%\n",
    "      setView(lng = -87.98733, lat = 30.50355, zoom = 9) %>%\n",
    "      addRectangles(\n",
    "        lng1=lonmin, lat1=latmin,\n",
    "        lng2=lonmax, lat2=latmax,\n",
    "        fillColor = \"transparent\") %>%\n",
    "        addCircles(lng = ~Lon, lat = ~Lat, weight = 5,\n",
    "                radius = 500, popup = ~Station)\n"
   ]
  },
  {
   "cell_type": "markdown",
   "metadata": {},
   "source": [
    "## Download and plot station data \n",
    "\n",
    "Later, we'll *download* these from databases, but for the demo, we put a small, sample demo file in GitHub.\n",
    "\n",
    "(For the bigger analysis, we avoid putting data in GitHub...too big and not what git is meant for.)"
   ]
  },
  {
   "cell_type": "code",
   "execution_count": null,
   "metadata": {},
   "outputs": [],
   "source": [
    "#Read profile data\n",
    "df <- read.csv('data/MB6H.csv')\n",
    "#Clean up the date\n",
    "df$Date <- as.Date(df$Date)\n",
    "#Take a look\n",
    "head(df)"
   ]
  },
  {
   "cell_type": "markdown",
   "metadata": {},
   "source": [
    "### The following plots model data of temperature and salinity at sea surface and bottom."
   ]
  },
  {
   "cell_type": "code",
   "execution_count": null,
   "metadata": {},
   "outputs": [],
   "source": [
    "#General plot options\n",
    "options(repr.plot.width=15, repr.plot.height=6)"
   ]
  },
  {
   "cell_type": "code",
   "execution_count": null,
   "metadata": {},
   "outputs": [],
   "source": [
    "plot(df$Date,df$Tbot,type='l',ylab=\"Temperature\",xlab='')\n",
    "lines(df$Date,df$Tsurf,col='darkred')"
   ]
  },
  {
   "cell_type": "code",
   "execution_count": null,
   "metadata": {},
   "outputs": [],
   "source": [
    "plot(df$Date,df$Sbot,type='l',ylab=\"Salinity\",xlab='')\n",
    "lines(df$Date,df$Ssurf,col='darkred')"
   ]
  },
  {
   "cell_type": "markdown",
   "metadata": {},
   "source": [
    "## Project Data Lake on OSN\n",
    "\n",
    "The modeling data is being hosted on Open Storage Network (OSN), through allocation EES210015 from the Advanced Cyberinfrastructure Coordination Ecosystem: Services & Support, which is supported by National Science Foundation grants #2138259, #2138286, #2138307, #2137603, and #2138296.\n",
    "\n",
    "### Download a file\n",
    "To download data using R in a Notebook:\n",
    "- In the top nav bar to the left of the screen, click **File**\n",
    "- Choose **New Launcher**\n",
    "- At the bottom, click the box for **Terminal**\n",
    "\n",
    "This opens a terminal where you can use basic Linux shell commands.  Use `wget` to download data from OSN.\n",
    "\n",
    "The following file is model data extracted from the same location as station MS3C.  Copy and paste it into the terminal window.\n",
    "```\n",
    "wget https://renc.osn.xsede.org/ees210015-bucket01/hydrodynamics/ROMS_TS_csvFiles/MS3C.csv\n",
    "```\n",
    "\n",
    "To navigate back and forth between tabs:\n",
    "- In the top nav bar, click **Tabs**\n",
    "- Choose which Tab\n",
    "- To navigate to the Notebok, you can also click **index.ipynb** in the left panel.\n",
    "\n",
    "### Redo the steps with the new file.\n",
    "The following assumes the new file is in the same directory as the Notebook."
   ]
  },
  {
   "cell_type": "code",
   "execution_count": null,
   "metadata": {},
   "outputs": [],
   "source": [
    "#Read profile data, assign to new dataframe\n",
    "df2 <- read.csv('MS3C.csv')\n",
    "#Clean up the date\n",
    "df2$Date <- as.Date(df2$Date)\n",
    "#Take a look\n",
    "head(df2)"
   ]
  },
  {
   "cell_type": "code",
   "execution_count": null,
   "metadata": {},
   "outputs": [],
   "source": [
    "plot(df$Date,df$Tbot,type='l',ylab=\"Bottom Temperatures\",xlab='')\n",
    "lines(df2$Date,df2$Tbot,col='darkgreen')"
   ]
  },
  {
   "cell_type": "markdown",
   "metadata": {},
   "source": [
    "## Plot the difference in bottom temperature between the two stations"
   ]
  },
  {
   "cell_type": "code",
   "execution_count": null,
   "metadata": {},
   "outputs": [],
   "source": [
    "df_diff = df$Tbot - df2$Tbot"
   ]
  },
  {
   "cell_type": "code",
   "execution_count": null,
   "metadata": {},
   "outputs": [],
   "source": [
    "plot(df$Date,df_diff,type='l',ylab=\"Bottom Temperature, MB6H - MS3C\",xlab='')"
   ]
  }
 ],
 "metadata": {
  "kernelspec": {
   "display_name": "R",
   "language": "R",
   "name": "ir"
  },
  "language_info": {
   "codemirror_mode": "r",
   "file_extension": ".r",
   "mimetype": "text/x-r-source",
   "name": "R",
   "pygments_lexer": "r",
   "version": "4.2.1"
  }
 },
 "nbformat": 4,
 "nbformat_minor": 4
}
